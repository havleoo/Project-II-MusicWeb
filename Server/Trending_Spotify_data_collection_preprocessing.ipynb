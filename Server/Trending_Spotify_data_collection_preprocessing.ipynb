{
 "cells": [
  {
   "cell_type": "code",
   "execution_count": 1,
   "id": "e88848b1-51ba-4434-bdf3-ee9a52abc7bc",
   "metadata": {},
   "outputs": [],
   "source": [
    "# Collect data from Spotify\n",
    "from spotipy.oauth2 import SpotifyClientCredentials\n",
    "import spotipy\n",
    "\n",
    "# Data Visualization\n",
    "from wordcloud import WordCloud\n",
    "import matplotlib.pyplot as plt\n",
    "from matplotlib import colors\n",
    "from termcolor import cprint\n",
    "import plotly.express as px\n",
    "import seaborn as sns\n",
    "import warnings\n",
    "\n",
    "# Data Preprocessing\n",
    "from sklearn.preprocessing import StandardScaler\n",
    "import pandas as pd\n",
    "\n",
    "warnings.filterwarnings(\"ignore\")"
   ]
  },
  {
   "cell_type": "code",
   "execution_count": 2,
   "id": "c8342c24-86d1-4f32-b1b8-9d72216155bb",
   "metadata": {},
   "outputs": [],
   "source": [
    "# setup api\n",
    "cid = \"5ce22bf9a89040eb895942284fe06912\"\n",
    "secret = \"28251d136c45461e88942dd633250ae4\"\n",
    "client_credentials_manager = SpotifyClientCredentials(client_id=cid, client_secret=secret)\n",
    "sp = spotipy.Spotify(client_credentials_manager=client_credentials_manager)"
   ]
  },
  {
   "cell_type": "code",
   "execution_count": 3,
   "id": "eb5d98d1-29d5-4c76-9220-7d5a4ff8e332",
   "metadata": {
    "tags": []
   },
   "outputs": [],
   "source": [
    "# Get songs from a specific playlist\n",
    "playlist_id = \"37i9dQZF1DWVOaOWiVD1Lf\"\n",
    "\n",
    "results = sp.playlist_tracks(playlist_id)\n",
    "songs_list = []\n",
    "\n",
    "while results:\n",
    "    for item in results['items']:\n",
    "        track = item['track']\n",
    "        songs_data = {\n",
    "            'id': track['id'],\n",
    "        }\n",
    "        songs_list.append(songs_data)\n",
    "    \n",
    "    if results['next']:\n",
    "        results = sp.next(results)\n",
    "    else:\n",
    "        results = None"
   ]
  },
  {
   "cell_type": "code",
   "execution_count": 4,
   "id": "17babcd9",
   "metadata": {},
   "outputs": [],
   "source": [
    "df_songs = pd.DataFrame(songs_list)"
   ]
  },
  {
   "cell_type": "code",
   "execution_count": 5,
   "id": "125fb8a7",
   "metadata": {},
   "outputs": [],
   "source": [
    "audio_features = []\n",
    "for ids in df_songs['id']:\n",
    "    try : \n",
    "        results = sp.audio_features(ids)\n",
    "        audio_data = {\n",
    "            'id':ids,\n",
    "            'danceability':results[0]['danceability'],\n",
    "            'energy':results[0]['energy'],\n",
    "            'key':results[0][\"key\"],\n",
    "            'loudness': results[0][\"loudness\"],\n",
    "            'mode':results[0]['mode'],\n",
    "            'speechiness':results[0]['speechiness'],\n",
    "            'acousticness': results[0]['acousticness'],\n",
    "            'instrumentalness':results[0]['instrumentalness'],\n",
    "            'liveness':results[0]['liveness'],\n",
    "            'valence':results[0]['valence'],\n",
    "            'tempo':results[0]['tempo'],\n",
    "            'time_signature' : results[0]['time_signature'],\n",
    "        }\n",
    "        audio_features.append(audio_data)\n",
    "    except : \n",
    "         print('Cannot retrieve audio features for song ID:', ids)\n",
    "        \n"
   ]
  },
  {
   "cell_type": "code",
   "execution_count": 6,
   "id": "b96a3e4e",
   "metadata": {},
   "outputs": [],
   "source": [
    "df_audios  = pd.DataFrame(audio_features)"
   ]
  },
  {
   "cell_type": "code",
   "execution_count": 7,
   "id": "50972203-852d-4f91-8bd7-cb3419342a84",
   "metadata": {},
   "outputs": [],
   "source": [
    "# Merge audios and songs by ID\n",
    "df = pd.merge(df_songs, df_audios, on='id')\n",
    "# Save data into a CSV file\n",
    "df.to_csv('Trends_songs.csv', index=False)"
   ]
  },
  {
   "cell_type": "code",
   "execution_count": 8,
   "id": "3bca879e-73b0-463f-9be4-06d2972a7457",
   "metadata": {},
   "outputs": [],
   "source": [
    "# Import songs dataset\n",
    "df_songs = pd.read_csv('Trends_songs.csv')"
   ]
  },
  {
   "cell_type": "code",
   "execution_count": 9,
   "id": "b0c46e2f-afb9-43df-81fd-b0f1deac73bd",
   "metadata": {},
   "outputs": [
    {
     "data": {
      "text/plain": [
       "id                  0\n",
       "danceability        0\n",
       "energy              0\n",
       "key                 0\n",
       "loudness            0\n",
       "mode                0\n",
       "speechiness         0\n",
       "acousticness        0\n",
       "instrumentalness    0\n",
       "liveness            0\n",
       "valence             0\n",
       "tempo               0\n",
       "time_signature      0\n",
       "dtype: int64"
      ]
     },
     "execution_count": 9,
     "metadata": {},
     "output_type": "execute_result"
    }
   ],
   "source": [
    "df_songs.isnull().sum()"
   ]
  },
  {
   "cell_type": "markdown",
   "id": "924a32f3",
   "metadata": {},
   "source": []
  }
 ],
 "metadata": {
  "kernelspec": {
   "display_name": "Python 3",
   "language": "python",
   "name": "python3"
  },
  "language_info": {
   "codemirror_mode": {
    "name": "ipython",
    "version": 3
   },
   "file_extension": ".py",
   "mimetype": "text/x-python",
   "name": "python",
   "nbconvert_exporter": "python",
   "pygments_lexer": "ipython3",
   "version": "3.11.9"
  }
 },
 "nbformat": 4,
 "nbformat_minor": 5
}
